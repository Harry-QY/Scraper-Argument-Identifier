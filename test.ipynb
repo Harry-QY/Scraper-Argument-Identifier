{
 "cells": [
  {
   "cell_type": "code",
   "execution_count": 7,
   "metadata": {},
   "outputs": [],
   "source": [
    "import os\n",
    "from analyser import scrape_analyse\n",
    "\n",
    "os.environ[\"OPENAI_API_KEY\"] = \"Insert you OpenAI API Key\""
   ]
  },
  {
   "cell_type": "code",
   "execution_count": 8,
   "metadata": {},
   "outputs": [
    {
     "name": "stdout",
     "output_type": "stream",
     "text": [
      "==================================\u001b[1m Ai Message \u001b[0m==================================\n",
      "\n",
      "Point: Elon Musk and Yann LeCun are engaged in a public disagreement, especially concerning Musk's AI startup, xAI.\n",
      "- Evidence and explanation: Elon Musk and Yann LeCun have been publicly disputing on X. Musk is trying to recruit for his AI startup, xAI, and LeCun has criticized Musk's approach, stating that one would have to \"stand a boss\" who \"spews crazy-ass conspiracy theories.\"\n",
      "\n",
      "Point: Yann LeCun criticizes Elon Musk's style and beliefs.\n",
      "- Evidence and explanation: LeCun has expressed that he appreciates Musk's cars, rockets, solar panels, and satellite network. However, he takes issue with Musk's \"vengeful politics, his conspiracy theories, and his hype.\"\n",
      "\n",
      "Point: Musk dismisses LeCun's scientific contributions.\n",
      "- Evidence and explanation: When LeCun stated that he's a scientist, not a business or product person, Musk questioned LeCun's recent scientific contributions, stating, \"what “science” have you done in the past 5 years,\" and dismissing LeCun’s more than 80 published technical papers since 2022 as “nothing.”\n",
      "\n",
      "Point: LeCun argues that Musk doesn't understand how research works.\n",
      "- Evidence and explanation: In response to Musk's criticisms, LeCun stated, “you don’t seem to understand how research works” and noted that “every single driving assistance system today” relies on research — convolutional neural networks — that he introduced, including Musk’s EV firm Tesla, though Musk said they “don’t use CNNs much these days.”\n",
      "\n",
      "Point: Yann LeCun is a significant figure in the AI field.\n",
      "- Evidence and explanation: LeCun is a notable computer scientist considered one of the three \"AI godfathers\" for his foundational role in the field. He leads Meta’s AI efforts and is a professor at New York University. He has publicly feuded with Musk in the past.\n",
      "\n",
      "Point: Musk is actively trying to recruit AI talent for his startup xAI.\n",
      "- Evidence and explanation: The latest feud with LeCun comes as Musk is working to attract AI talent to xAI to compete with companies like Meta, OpenAI, Google, and other leaders in the field, following a Series B funding round that brought in $6 billion.\n",
      "\n",
      "Point: The disagreement has amused LeCun.\n",
      "- Evidence and explanation: LeCun seems to have found the online feud with Musk entertaining. During an 8-hour transatlantic flight with free wifi, he found the spat \"Pretty entertaining, I'd say.\" He also jokingly dismissed the idea of settling their disagreement through a \"cage fight\" or a sailing race.\n"
     ]
    }
   ],
   "source": [
    "url = \"https://www.forbes.com/sites/roberthart/2024/05/28/elon-musk-is-feuding-with-ai-godfather-yann-lecun-again-heres-why/\"\n",
    "result = scrape_analyse(url)\n",
    "result.pretty_print()"
   ]
  }
 ],
 "metadata": {
  "kernelspec": {
   "display_name": "base",
   "language": "python",
   "name": "python3"
  },
  "language_info": {
   "codemirror_mode": {
    "name": "ipython",
    "version": 3
   },
   "file_extension": ".py",
   "mimetype": "text/x-python",
   "name": "python",
   "nbconvert_exporter": "python",
   "pygments_lexer": "ipython3",
   "version": "3.9.12"
  }
 },
 "nbformat": 4,
 "nbformat_minor": 2
}
